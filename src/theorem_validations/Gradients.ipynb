{
 "cells": [
  {
   "cell_type": "code",
   "execution_count": null,
   "metadata": {},
   "outputs": [],
   "source": [
    "import sys\n",
    "sys.path.append(\"..\")\n",
    "from modules.utils import generate_matrix_close_to_isometry, generate_matrix_far_from_isometry, isometry_gap, ortho_gap\n",
    "from modules.models import MLPWithBatchNorm, SinAct, CustomNormalization\n",
    "from torch import nn\n",
    "import torch\n",
    "from torch.func import jacfwd\n",
    "from tqdm import tqdm\n",
    "import pandas as pd\n",
    "import numpy as np\n",
    "import math\n",
    "import matplotlib\n",
    "import itertools\n",
    "from constants import *\n",
    "import matplotlib.pyplot as plt\n",
    "import seaborn as sns\n",
    "from torchvision import transforms, datasets\n",
    "matplotlib.rcParams[\"figure.dpi\"] = 80\n",
    "# matplotlib.use(\"pgf\")\n",
    "matplotlib.rcParams.update({\n",
    "    \"pgf.texsystem\": \"pdflatex\",\n",
    "    'font.family': 'serif',\n",
    "    'text.usetex': True,\n",
    "    'pgf.rcfonts': False,\n",
    "})\n",
    "sns.set(rc={\"figure.dpi\":80, 'savefig.dpi':80})\n",
    "sns.set_theme()\n",
    "sns.set_context('paper')\n",
    "palette = sns.color_palette(\"tab10\")\n",
    "style = {\"grid.linestyle\": \":\", \n",
    "        \"border.color\": \"black\",\n",
    "       \"axes.edgecolor\": \"black\",\n",
    "       \"xtick.bottom\": \"True\",\n",
    "       \"xtick.top\": \"True\",\n",
    "       \"ytick.left\": \"True\",\n",
    "       \"ytick.right\": \"True\",\n",
    "       \"xtick.direction\": \"in\",\n",
    "       \"ytick.direction\": \"in\"}"
   ]
  },
  {
   "cell_type": "code",
   "execution_count": null,
   "metadata": {},
   "outputs": [],
   "source": [
    "transform = transforms.Compose(\n",
    "    [transforms.ToTensor(),\n",
    "    transforms.Normalize((0.4914, 0.4822, 0.4465), (0.247, 0.243, 0.261))])\n",
    "\n",
    "d = 100\n",
    "n = 100\n",
    "\n",
    "root_dir = 'FILL_HERE'\n",
    "train_set = datasets.CIFAR10(root=root_dir, train=True, download=False, transform=transform)\n",
    "train_loader = torch.utils.data.DataLoader(train_set, batch_size=n, shuffle=True)\n",
    "test_x, test_y = next(iter(train_loader))\n",
    "test_x = test_x.cuda().flatten(1, -1)\n",
    "test_y = test_y.cuda()"
   ]
  },
  {
   "cell_type": "code",
   "execution_count": null,
   "metadata": {},
   "outputs": [],
   "source": [
    "inits = ['orthogonal', 'xavier_normal']\n",
    "act_names = ['identity']\n",
    "\n",
    "# act_names = ['identity', 'tanh', 'sin'] # for nonlinearities, enable them here. see full list in ACTIVATIONS\n",
    "\n",
    "depths = [5, 10, 20, 50, 100, 200, 500, 1000]\n",
    "runs = list(itertools.product(*[inits, act_names, depths]))"
   ]
  },
  {
   "cell_type": "code",
   "execution_count": null,
   "metadata": {},
   "outputs": [],
   "source": [
    "df = []\n",
    "for run in tqdm(runs):\n",
    "    init_type, act_name, L = run\n",
    "    for expi in range(10):\n",
    "        activation = ACTIVATIONS[act_name]\n",
    "        model = MLPWithBatchNorm(input_dim=3*32*32, \n",
    "                                output_dim=10, \n",
    "                                num_layers=L, \n",
    "                                hidden_dim=d, \n",
    "                                norm_type='bn',\n",
    "                                bias=False,\n",
    "                                order='norm_act',\n",
    "                                force_factor=None,\n",
    "                                mean_reduction=False,\n",
    "                                activation=activation,\n",
    "                                exponent=0,\n",
    "                                save_hidden=True).cuda()\n",
    "\n",
    "        model.reset_parameters(init_type, gain=GAINS[act_name])\n",
    "\n",
    "        criterion = nn.CrossEntropyLoss()\n",
    "        model.zero_grad()\n",
    "        y_pred = model(test_x)\n",
    "        outputs = model.hiddens\n",
    "        loss = criterion(y_pred, test_y)\n",
    "        loss.backward()\n",
    "        df.append({\n",
    "            'grad': model.layers[f'fc_1'].weight.grad.norm().log().item(),\n",
    "            'isogap': isometry_gap(outputs[f'fc_{L-1}']).item(),\n",
    "            'Activation': act_name,\n",
    "            'Initialization': init_type,\n",
    "            'Depth': L\n",
    "            })\n",
    "df = pd.DataFrame(df)"
   ]
  },
  {
   "cell_type": "code",
   "execution_count": null,
   "metadata": {},
   "outputs": [],
   "source": [
    "edited_df = df.replace('orthogonal','Orthogonal').replace('xavier_normal', 'Normal')\n",
    "edited_df = edited_df[edited_df['Activation'] == 'identity']\n",
    "sns.set_style('darkgrid', style)\n",
    "fig, ax = plt.subplots(dpi=200, figsize=(4,2), ncols=1)\n",
    "sns.lineplot(edited_df, x='Depth', y='grad', hue='Initialization', ax=ax, legend='full', marker='.')\n",
    "ax.set_ylabel(r'$\\log \\| \\nabla_{W_1} \\mathcal{L} \\|_F$')\n",
    "ax.legend(frameon=False, title='Initialization')\n",
    "sns.move_legend(ax, \"center left\", bbox_to_anchor=(1.1, 0.5))\n",
    "fig.tight_layout()\n",
    "fig.show()"
   ]
  },
  {
   "cell_type": "markdown",
   "metadata": {},
   "source": [
    "# Mean reduction effect"
   ]
  },
  {
   "cell_type": "code",
   "execution_count": null,
   "metadata": {},
   "outputs": [],
   "source": [
    "inits = ['orthogonal']\n",
    "act_names = ['identity']\n",
    "mrs = [True, False]\n",
    "depths = [5, 10, 20, 50, 100, 200, 500, 1000]\n",
    "\n",
    "runs = list(itertools.product(*[inits, act_names, depths, mrs]))"
   ]
  },
  {
   "cell_type": "code",
   "execution_count": null,
   "metadata": {},
   "outputs": [],
   "source": [
    "df = []\n",
    "for run in tqdm(runs):\n",
    "    init_type, act_name, L, mr = run\n",
    "    force_factor = None if mr is True else 1.0\n",
    "    for expi in range(10):\n",
    "        activation = ACTIVATIONS[act_name]\n",
    "        model = MLPWithBatchNorm(input_dim=3*32*32, \n",
    "                                output_dim=10, \n",
    "                                num_layers=L, \n",
    "                                hidden_dim=d, \n",
    "                                norm_type='bn',\n",
    "                                bias=False,\n",
    "                                order='norm_act',\n",
    "                                force_factor=force_factor,\n",
    "                                mean_reduction=mr,\n",
    "                                activation=activation,\n",
    "                                exponent=0,\n",
    "                                save_hidden=True).cuda()\n",
    "\n",
    "        model.reset_parameters(init_type, gain=GAINS[act_name])\n",
    "        criterion = nn.CrossEntropyLoss()\n",
    "        model.zero_grad()\n",
    "        y_pred = model(test_x)\n",
    "        outputs = model.hiddens\n",
    "        loss = criterion(y_pred, test_y)\n",
    "        loss.backward()\n",
    "        \n",
    "\n",
    "        norm_type2 = 'Without' if mr==False else 'With' \n",
    "        grad = model.layers[f'fc_{0}'].weight.grad.norm().log().item()\n",
    "        df.append({\n",
    "            'grad': grad,\n",
    "            'Activation': act_name,\n",
    "            'Initialization': init_type,\n",
    "            'Depth': L,\n",
    "            'norm_type': norm_type2\n",
    "            })\n",
    "df = pd.DataFrame(df)"
   ]
  },
  {
   "cell_type": "code",
   "execution_count": null,
   "metadata": {},
   "outputs": [],
   "source": [
    "sns.set_style('darkgrid', style)\n",
    "fig, ax = plt.subplots(dpi=200, ncols=1, figsize=(4, 2))\n",
    "sns.lineplot(df, x='Depth', y='grad', ax=ax, hue='norm_type', legend='full', marker='.')\n",
    "ax.legend(frameon=False, title='Mean reduction')\n",
    "sns.move_legend(ax, \"center left\", bbox_to_anchor=(1.1, 0.5))\n",
    "ax.set_ylabel(r'$\\log \\| \\nabla_{W_1} \\mathcal{L} \\|_F$')\n",
    "fig.tight_layout()\n",
    "fig.show()"
   ]
  },
  {
   "cell_type": "code",
   "execution_count": null,
   "metadata": {},
   "outputs": [],
   "source": []
  }
 ],
 "metadata": {
  "kernelspec": {
   "display_name": "Python 3 (ipykernel)",
   "language": "python",
   "name": "python3"
  },
  "language_info": {
   "codemirror_mode": {
    "name": "ipython",
    "version": 3
   },
   "file_extension": ".py",
   "mimetype": "text/x-python",
   "name": "python",
   "nbconvert_exporter": "python",
   "pygments_lexer": "ipython3",
   "version": "3.9.16"
  }
 },
 "nbformat": 4,
 "nbformat_minor": 2
}
